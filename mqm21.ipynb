{
 "cells": [
  {
   "cell_type": "code",
   "execution_count": 3,
   "id": "ee25d42e-a32b-41a7-b879-0aad3679e44f",
   "metadata": {},
   "outputs": [],
   "source": [
    "import os\n",
    "import re\n",
    "import numpy as np\n",
    "import json\n",
    "import pickle\n",
    "import copy\n",
    "import pandas as pd\n"
   ]
  },
  {
   "cell_type": "code",
   "execution_count": 5,
   "id": "2a045098-9d53-4de8-bee3-8616cdf2f0b9",
   "metadata": {},
   "outputs": [],
   "source": [
    "premade_file = '/home/ksudoh/kosuke-t/data_link/WMT/wmt21-newstest2021.json'\n",
    "r = open(premade_file, \"r\")\n",
    "df = pd.read_json(r, lines=True)\n",
    "r.close()\n"
   ]
  },
  {
   "cell_type": "code",
   "execution_count": 10,
   "id": "b2eb9c7b-615e-4fb3-81a0-284a99f6b8ad",
   "metadata": {},
   "outputs": [
    {
     "name": "stdout",
     "output_type": "stream",
     "text": [
      "{'de-en': 76000, 'en-ru': 56112, 'en-ja': 15000, 'is-en': 10000, 'en-de': 400800, 'ru-en': 40000, 'ha-en': 13958, 'en-is': 11000, 'en-ha': 14000, 'cs-en': 32000, 'ja-en': 16080, 'zh-en': 218176, 'de-fr': 9000, 'fr-de': 9234, 'en-cs': 10020, 'en-zh': 116232}\n"
     ]
    }
   ],
   "source": [
    "lang_dic = {}\n",
    "for lang in list(df['lang']):\n",
    "    if lang not in lang_dic:\n",
    "        lang_dic[lang] = 1\n",
    "    else:\n",
    "        lang_dic[lang] += 1\n",
    "print(lang_dic)"
   ]
  },
  {
   "cell_type": "code",
   "execution_count": null,
   "id": "5162f022-e1db-4925-b57e-dd4beda1c419",
   "metadata": {},
   "outputs": [],
   "source": []
  }
 ],
 "metadata": {
  "kernelspec": {
   "display_name": "Python 3 (ipykernel)",
   "language": "python",
   "name": "python3"
  },
  "language_info": {
   "codemirror_mode": {
    "name": "ipython",
    "version": 3
   },
   "file_extension": ".py",
   "mimetype": "text/x-python",
   "name": "python",
   "nbconvert_exporter": "python",
   "pygments_lexer": "ipython3",
   "version": "3.8.13"
  }
 },
 "nbformat": 4,
 "nbformat_minor": 5
}
