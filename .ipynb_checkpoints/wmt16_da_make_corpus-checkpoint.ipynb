{
 "cells": [
  {
   "cell_type": "code",
   "execution_count": 6,
   "metadata": {},
   "outputs": [],
   "source": [
    "import os\n",
    "import sys\n",
    "\n",
    "#DATA_HOME = '/ahc/work3/kosuke-t/data/'\n",
    "DATA_HOME = sys.argv[-1]\n",
    "\n",
    "SAVE_PATH_DA = os.path.join(DATA_HOME, 'WMT/wmt16_da.pkl')\n",
    "_DATA_HOME = os.path.join(DATA_HOME, 'WMT/DAseg-wmt-newstest2016')\n",
    "\n",
    "\n",
    "langs = ['cs-en', 'de-en', 'en-ru', 'fi-en', 'ro-en', 'ru-en', 'tr-en']\n",
    "\n",
    "import csv\n",
    "import pickle\n",
    "import re\n",
    "import csv\n",
    "from pprint import pprint\n",
    "import pandas as pd\n",
    "import numpy as np\n",
    "import copy\n",
    "from  tqdm import tqdm"
   ]
  },
  {
   "cell_type": "code",
   "execution_count": 7,
   "metadata": {},
   "outputs": [],
   "source": [
    "def load_file(filename):\n",
    "    data = []\n",
    "    with open(filename, mode='r', encoding='utf-8') as r:\n",
    "        data = r.read().split(os.linesep)\n",
    "        if data[-1] == '':\n",
    "            data.pop(-1)\n",
    "    return data\n",
    "\n",
    "SRC_files = {lang:load_file(os.path.join(_DATA_HOME, 'DAseg.newstest2016.source.{}'.format(lang)))  for lang in langs}\n",
    "REF_files = {lang:load_file(os.path.join(_DATA_HOME, 'DAseg.newstest2016.reference.{}'.format(lang))) for lang in langs}\n",
    "HYP_files = {lang:load_file(os.path.join(_DATA_HOME, 'DAseg.newstest2016.mt-system.{}'.format(lang))) for lang in langs}\n",
    "DA_files = {lang:load_file(os.path.join(_DATA_HOME, 'DAseg.newstest2016.human.{}'.format(lang))) for lang in langs}\n"
   ]
  },
  {
   "cell_type": "code",
   "execution_count": 8,
   "metadata": {},
   "outputs": [],
   "source": [
    "corpus = []\n",
    "for lang in langs:\n",
    "    for i, (src, ref, hyp, label) in enumerate(zip(SRC_files[lang], REF_files[lang], HYP_files[lang], DA_files[lang])):\n",
    "        corpus.append({'lang':lang,\n",
    "                       'year':16,\n",
    "                       'sid':int(i)+1,\n",
    "                       'src':src.rstrip(),\n",
    "                       'ref':ref.rstrip(),\n",
    "                       'hyp':hyp.rstrip(),\n",
    "                       'label':label.rstrip()})\n",
    "        \n",
    "        "
   ]
  },
  {
   "cell_type": "code",
   "execution_count": 9,
   "metadata": {},
   "outputs": [
    {
     "name": "stdout",
     "output_type": "stream",
     "text": [
      "saving /ahc/work3/kosuke-t/data/WMT/wmt16_da.pkl\n"
     ]
    }
   ],
   "source": [
    "print('saving {}'.format(SAVE_PATH_DA))\n",
    "with open(SAVE_PATH_DA, mode='wb') as w:\n",
    "    pickle.dump(corpus, w)"
   ]
  },
  {
   "cell_type": "code",
   "execution_count": null,
   "metadata": {},
   "outputs": [],
   "source": []
  },
  {
   "cell_type": "code",
   "execution_count": null,
   "metadata": {},
   "outputs": [],
   "source": []
  }
 ],
 "metadata": {
  "kernelspec": {
   "display_name": "Python 3",
   "language": "python",
   "name": "python3"
  },
  "language_info": {
   "codemirror_mode": {
    "name": "ipython",
    "version": 3
   },
   "file_extension": ".py",
   "mimetype": "text/x-python",
   "name": "python",
   "nbconvert_exporter": "python",
   "pygments_lexer": "ipython3",
   "version": "3.6.7"
  }
 },
 "nbformat": 4,
 "nbformat_minor": 4
}
